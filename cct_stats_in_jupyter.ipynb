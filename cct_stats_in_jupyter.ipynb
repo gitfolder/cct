{
 "cells": [
  {
   "cell_type": "markdown",
   "id": "9401f1d6",
   "metadata": {},
   "source": [
    "# Syntax\n",
    "# \\\\$ expression \\\\$\n",
    "# \\\\$\\\\$ Latex Expression \\\\$\\\\$"
   ]
  },
  {
   "cell_type": "markdown",
   "id": "075e9f09",
   "metadata": {},
   "source": [
    "## \\complement\n",
    "$ 100 \\complement 10 $   "
   ]
  },
  {
   "cell_type": "markdown",
   "id": "982b0d1d",
   "metadata": {},
   "source": [
    "## \\binom{}{} [ Binomial ]\n",
    "$ \\binom{3}{4} $"
   ]
  },
  {
   "cell_type": "markdown",
   "id": "e56eccbd",
   "metadata": {},
   "source": [
    "## \\cup  [ union ]\n",
    "$ \\cup $"
   ]
  },
  {
   "cell_type": "markdown",
   "id": "70779c69",
   "metadata": {},
   "source": [
    "## \\cap  [ Intersection ]\n",
    "$ \\cap $"
   ]
  },
  {
   "cell_type": "markdown",
   "id": "e9a12358",
   "metadata": {},
   "source": [
    "## \\bar a [ mean ]\n",
    "$ \\bar a $"
   ]
  },
  {
   "cell_type": "markdown",
   "id": "c26e6f2e",
   "metadata": {},
   "source": [
    "## \\sqrt{}  [ square root, radical ]\n",
    "$ \\sqrt{2} \\\\\n",
    "  \\sqrt[3]{2} $"
   ]
  },
  {
   "cell_type": "markdown",
   "id": "0adca457",
   "metadata": {},
   "source": [
    "## c = \\sqrt{a^2 + b^2}"
   ]
  },
  {
   "cell_type": "markdown",
   "id": "f7470a91",
   "metadata": {},
   "source": [
    "$ c = \\sqrt{a^2 + b^2} $"
   ]
  },
  {
   "cell_type": "markdown",
   "id": "54e1157f",
   "metadata": {},
   "source": [
    "## \\frac{}{} [ fraction ]\n",
    "$ \\frac{3}{4} $"
   ]
  },
  {
   "cell_type": "markdown",
   "id": "549ba3c7",
   "metadata": {},
   "source": [
    "## \\leq \\geq  [ less or equals, greater or equals ]\n",
    "$ a \\leq b \\\\\n",
    "  b \\geq a $"
   ]
  },
  {
   "cell_type": "markdown",
   "id": "1f48f687",
   "metadata": {},
   "source": [
    "$ e^{10-1} $"
   ]
  },
  {
   "cell_type": "markdown",
   "id": "1a584aea",
   "metadata": {},
   "source": [
    "## \\underline  [ not A ]\n",
    "$ \\underline A $"
   ]
  },
  {
   "cell_type": "markdown",
   "id": "9479c77f",
   "metadata": {},
   "source": [
    "## A_i \n",
    "$ A_i $"
   ]
  },
  {
   "cell_type": "markdown",
   "id": "ffcb2189",
   "metadata": {},
   "source": [
    "$ P(X) \\\\\n",
    "Domain = \\{1,2,3,4,5,6\\} $"
   ]
  },
  {
   "cell_type": "markdown",
   "id": "28778639",
   "metadata": {},
   "source": [
    "## \\sum_{i=0}^\\infty  [ sum ]\n",
    "$$ \\sum_{i=0}^\\infty $$"
   ]
  },
  {
   "cell_type": "markdown",
   "id": "01b182fd",
   "metadata": {},
   "source": [
    "## Table\n",
    "##### | Stretch/Untouched | ProbDistribution | Accuracy |\n",
    "##### | --- | --- | --- |\n",
    "##### | Stretched | Gaussian | .843 |\n",
    "| Stretch/Untouched | ProbDistribution | Accuracy |\n",
    "| --- | --- | --- |\n",
    "| Stretched | Gaussian | .843 |\n",
    "| Other | Something | 1/30 |"
   ]
  },
  {
   "cell_type": "markdown",
   "id": "1dc0ddb1",
   "metadata": {},
   "source": [
    "## HTML Table\n",
    "<table>\n",
    "<tr>\n",
    "<td>first </td>\n",
    "<td>second</td>\n",
    "</tr>\n",
    "<tr>\n",
    "<td>first </td>\n",
    "<td>second</td>\n",
    "</tr>    \n",
    "</table>"
   ]
  },
  {
   "cell_type": "markdown",
   "id": "2b2ec406",
   "metadata": {},
   "source": [
    "## Insert Image\n",
    "![graph](data/img1.png)"
   ]
  },
  {
   "cell_type": "code",
   "execution_count": null,
   "id": "caf57849",
   "metadata": {},
   "outputs": [],
   "source": []
  }
 ],
 "metadata": {
  "kernelspec": {
   "display_name": "Python 3",
   "language": "python",
   "name": "python3"
  },
  "language_info": {
   "codemirror_mode": {
    "name": "ipython",
    "version": 3
   },
   "file_extension": ".py",
   "mimetype": "text/x-python",
   "name": "python",
   "nbconvert_exporter": "python",
   "pygments_lexer": "ipython3",
   "version": "3.8.8"
  }
 },
 "nbformat": 4,
 "nbformat_minor": 5
}
